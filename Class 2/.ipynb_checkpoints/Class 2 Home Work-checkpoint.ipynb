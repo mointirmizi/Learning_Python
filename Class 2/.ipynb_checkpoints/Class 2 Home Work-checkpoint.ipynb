{
 "cells": [
  {
   "cell_type": "code",
   "execution_count": 11,
   "metadata": {},
   "outputs": [
    {
     "name": "stdout",
     "output_type": "stream",
     "text": [
      "1598.3101654846337\n",
      "5418.1809523809525\n"
     ]
    }
   ],
   "source": [
    "# PEMDAS (15 digits)\n",
    "print(15-56+23/47*562+85*51-52+256/45-45*63-89-2/5) # output\n",
    "\n",
    "print(32+25/45*+6-52+125+82*46-85/75*254+852*555/259) # output"
   ]
  },
  {
   "cell_type": "code",
   "execution_count": 33,
   "metadata": {},
   "outputs": [],
   "source": [
    "a = 50\n",
    "b = 70\n",
    "c= a+b*b-a"
   ]
  },
  {
   "cell_type": "code",
   "execution_count": 31,
   "metadata": {},
   "outputs": [
    {
     "name": "stdout",
     "output_type": "stream",
     "text": [
      "4900\n"
     ]
    }
   ],
   "source": [
    "print (c)"
   ]
  },
  {
   "cell_type": "code",
   "execution_count": 32,
   "metadata": {},
   "outputs": [
    {
     "name": "stdout",
     "output_type": "stream",
     "text": [
      "2450.0\n"
     ]
    }
   ],
   "source": [
    "print (c/2)"
   ]
  },
  {
   "cell_type": "code",
   "execution_count": 34,
   "metadata": {},
   "outputs": [
    {
     "data": {
      "text/plain": [
       "int"
      ]
     },
     "execution_count": 34,
     "metadata": {},
     "output_type": "execute_result"
    }
   ],
   "source": [
    "type (a)"
   ]
  },
  {
   "cell_type": "code",
   "execution_count": 35,
   "metadata": {},
   "outputs": [
    {
     "data": {
      "text/plain": [
       "float"
      ]
     },
     "execution_count": 35,
     "metadata": {},
     "output_type": "execute_result"
    }
   ],
   "source": [
    "type (c/2)"
   ]
  },
  {
   "cell_type": "code",
   "execution_count": 39,
   "metadata": {},
   "outputs": [
    {
     "name": "stdout",
     "output_type": "stream",
     "text": [
      "140712491456864\n",
      "140712491457504\n",
      "2278883833872\n",
      "2278883481712\n"
     ]
    }
   ],
   "source": [
    "print (id(a))\n",
    "print (id(b))\n",
    "print (id(c))\n",
    "print (id(c/2))"
   ]
  },
  {
   "cell_type": "code",
   "execution_count": 50,
   "metadata": {},
   "outputs": [
    {
     "data": {
      "text/plain": [
       "['Moin', 'Usama', 'Maaz', 'Hamza', 'Arqam']"
      ]
     },
     "execution_count": 50,
     "metadata": {},
     "output_type": "execute_result"
    }
   ],
   "source": [
    "# indexing\n",
    "name = [\"Moin\", \"Usama\", \"Maaz\",\"Hamza\",\"Arqam\"]\n",
    "list (name)"
   ]
  },
  {
   "cell_type": "code",
   "execution_count": 52,
   "metadata": {},
   "outputs": [
    {
     "name": "stdout",
     "output_type": "stream",
     "text": [
      "('Moin', 'Usama', 'Maaz', 'Hamza', 'Arqam')\n",
      "Hamza\n"
     ]
    },
    {
     "data": {
      "text/plain": [
       "tuple"
      ]
     },
     "execution_count": 52,
     "metadata": {},
     "output_type": "execute_result"
    }
   ],
   "source": [
    "# index   0        1        2      3       4\n",
    "name = (\"Moin\", \"Usama\", \"Maaz\",\"Hamza\",\"Arqam\")\n",
    "print(name)\n",
    "print(name[3])\n",
    "type(name)"
   ]
  },
  {
   "cell_type": "code",
   "execution_count": 53,
   "metadata": {},
   "outputs": [
    {
     "name": "stdout",
     "output_type": "stream",
     "text": [
      "{'Arqam', 'Hamza', 'Maaz', 'Usama', 'Moin'}\n",
      "<class 'set'>\n"
     ]
    },
    {
     "data": {
      "text/plain": [
       "set"
      ]
     },
     "execution_count": 53,
     "metadata": {},
     "output_type": "execute_result"
    }
   ],
   "source": [
    "name = {\"Moin\", \"Usama\", \"Maaz\",\"Hamza\",\"Arqam\"}\n",
    "print(name)\n",
    "print(type(name))\n",
    "type(name)"
   ]
  },
  {
   "cell_type": "code",
   "execution_count": 61,
   "metadata": {},
   "outputs": [
    {
     "data": {
      "text/plain": [
       "'Moin Tirmizi'"
      ]
     },
     "execution_count": 61,
     "metadata": {},
     "output_type": "execute_result"
    }
   ],
   "source": [
    "data = {\"name\":\"Moin Tirmizi\",\n",
    "       \"Father Name\":\"Saleem Tirmizi\",\n",
    "       \"Program\":\"PIAIC\",\n",
    "        True: \"Pakistan\"\n",
    "       }\n",
    "data [\"name\"]"
   ]
  },
  {
   "cell_type": "code",
   "execution_count": 63,
   "metadata": {},
   "outputs": [
    {
     "data": {
      "text/plain": [
       "dict"
      ]
     },
     "execution_count": 63,
     "metadata": {},
     "output_type": "execute_result"
    }
   ],
   "source": [
    "type (data)"
   ]
  },
  {
   "cell_type": "code",
   "execution_count": 64,
   "metadata": {},
   "outputs": [
    {
     "data": {
      "text/plain": [
       "['name', 'Father Name', 'Program', True]"
      ]
     },
     "execution_count": 64,
     "metadata": {},
     "output_type": "execute_result"
    }
   ],
   "source": [
    "list (data)"
   ]
  },
  {
   "cell_type": "code",
   "execution_count": 76,
   "metadata": {},
   "outputs": [
    {
     "name": "stdout",
     "output_type": "stream",
     "text": [
      "Moin Tirmizi\n",
      "moin tirmizi\n",
      "False\n",
      "2278900630832\n",
      "2278900630896\n"
     ]
    }
   ],
   "source": [
    "# if values are not machting in variable\n",
    "\n",
    "name1 = \"Moin Tirmizi\"\n",
    "name2 = \"moin tirmizi\"\n",
    "\n",
    "print (name1,name2 , sep=\"\\n\") # name1 and name 2 saparated in new line\n",
    "print (name1 == name2) # if  values are not same in both variables then it shows false\n",
    "print (id(name1), id(name2), sep=\"\\n\") # show the id of both variables"
   ]
  },
  {
   "cell_type": "code",
   "execution_count": 83,
   "metadata": {},
   "outputs": [
    {
     "name": "stdout",
     "output_type": "stream",
     "text": [
      "    Moin Tirmizi     \n",
      "21\n",
      "Moin Tirmizi     \n",
      "17\n"
     ]
    }
   ],
   "source": [
    "name = \"    Moin Tirmizi     \"\n",
    "print (name)\n",
    "print (len(name))\n",
    "print (name.lstrip())\n",
    "print (len(name.lstrip()))"
   ]
  },
  {
   "cell_type": "code",
   "execution_count": 84,
   "metadata": {},
   "outputs": [
    {
     "name": "stdout",
     "output_type": "stream",
     "text": [
      "    Moin Tirmizi     \n",
      "21\n",
      "    Moin Tirmizi\n",
      "16\n"
     ]
    }
   ],
   "source": [
    "name = \"    Moin Tirmizi     \"\n",
    "print (name)\n",
    "print (len(name))\n",
    "print (name.rstrip())\n",
    "print (len(name.rstrip()))"
   ]
  },
  {
   "cell_type": "code",
   "execution_count": 85,
   "metadata": {},
   "outputs": [
    {
     "name": "stdout",
     "output_type": "stream",
     "text": [
      "    Moin Tirmizi     \n",
      "21\n",
      "Moin Tirmizi\n",
      "12\n"
     ]
    }
   ],
   "source": [
    "name = \"    Moin Tirmizi     \"\n",
    "print (name)\n",
    "print (len(name))\n",
    "print (name.strip())\n",
    "print (len(name.strip()))"
   ]
  },
  {
   "cell_type": "code",
   "execution_count": 108,
   "metadata": {},
   "outputs": [
    {
     "data": {
      "text/plain": [
       "2"
      ]
     },
     "execution_count": 108,
     "metadata": {},
     "output_type": "execute_result"
    }
   ],
   "source": [
    "#find string (sub, start, end)\n",
    "a = \"i am a student of artificial intelligence and want to become artificial intelligence expert\"\n",
    "a.find(\"am\") # word \"am\" starts after second charactor."
   ]
  },
  {
   "cell_type": "code",
   "execution_count": 122,
   "metadata": {},
   "outputs": [
    {
     "data": {
      "text/plain": [
       "'ia  tdn fatfca nelgneadwn obcm riiilitliec xet'"
      ]
     },
     "execution_count": 122,
     "metadata": {},
     "output_type": "execute_result"
    }
   ],
   "source": [
    "# Slicing (start \"where slicing object is starts\", end\"where the slicing object end\", step\"How much word do you want to slice\")\n",
    "a[::2] # slicing 2,2 integers like, 1,4,7,10,13..."
   ]
  },
  {
   "cell_type": "code",
   "execution_count": 123,
   "metadata": {},
   "outputs": [
    {
     "data": {
      "text/plain": [
       "['i',\n",
       " 'am',\n",
       " 'a',\n",
       " 'student',\n",
       " 'of',\n",
       " 'artificial',\n",
       " 'intelligence',\n",
       " 'and',\n",
       " 'want',\n",
       " 'to',\n",
       " 'become',\n",
       " 'artificial',\n",
       " 'intelligence',\n",
       " 'expert']"
      ]
     },
     "execution_count": 123,
     "metadata": {},
     "output_type": "execute_result"
    }
   ],
   "source": [
    "a = \"i am a student of artificial intelligence and want to become artificial intelligence expert\"\n",
    "a.split() #spliteing each word and making list."
   ]
  },
  {
   "cell_type": "code",
   "execution_count": 175,
   "metadata": {},
   "outputs": [
    {
     "name": "stdout",
     "output_type": "stream",
     "text": [
      "10:15:30\n"
     ]
    }
   ],
   "source": [
    "hours = 10\n",
    "minuts = 15\n",
    "seconds = 30\n",
    "\n",
    "#Concatenation using operator \"%\"\n",
    "print (\"%s:%s:%s\" % (hours, minuts, seconds))"
   ]
  },
  {
   "cell_type": "code",
   "execution_count": 176,
   "metadata": {},
   "outputs": [
    {
     "name": "stdout",
     "output_type": "stream",
     "text": [
      "Moin Tirmizi (03365152900)\n"
     ]
    }
   ],
   "source": [
    "first_name = \"Moin\"\n",
    "second_name = \"Tirmizi\"\n",
    "mobile_no = \"(03365152900)\"\n",
    "\n",
    "#Concatenation using operator \"%\"\n",
    "print (\"%s %s %s\" % (first_name,second_name,mobile_no))"
   ]
  },
  {
   "cell_type": "code",
   "execution_count": 168,
   "metadata": {},
   "outputs": [
    {
     "name": "stdout",
     "output_type": "stream",
     "text": [
      "First Name: Moin \n",
      "Second Name: Tirmizi \n",
      "Mobile No: (03365152900)\n"
     ]
    }
   ],
   "source": [
    "first_name = \"Moin\"\n",
    "second_name = \"Tirmizi\"\n",
    "mobile_no = \"(03365152900)\"\n",
    "\n",
    "#Concatenation using operator \"%\"\n",
    "print(\"First Name: %s \\nSecond Name: %s \\nMobile No: %s\"% (first_name,second_name,mobile_no))"
   ]
  },
  {
   "cell_type": "code",
   "execution_count": 177,
   "metadata": {},
   "outputs": [
    {
     "name": "stdout",
     "output_type": "stream",
     "text": [
      "First Name:Moin\n",
      "Second Name:Tirmizi\n",
      "Mobile No:(03365152900)\n"
     ]
    }
   ],
   "source": [
    "first_name = \"Moin\"\n",
    "second_name = \"Tirmizi\"\n",
    "mobile_no = \"(03365152900)\"\n",
    "\n",
    "#Concatenation using operator \"+\"\n",
    "print (\"First Name:\" +first_name+ \"\\nSecond Name:\" +second_name+ \"\\nMobile No:\" +mobile_no)"
   ]
  },
  {
   "cell_type": "code",
   "execution_count": 198,
   "metadata": {},
   "outputs": [
    {
     "name": "stdout",
     "output_type": "stream",
     "text": [
      "Mobile No: 03365152900\n"
     ]
    }
   ],
   "source": [
    "a = \"Mobile No: \"\n",
    "b = \"03365152900\"\n",
    "\n",
    "#Concatenation using srting function\n",
    "print(a + str(b))"
   ]
  },
  {
   "cell_type": "code",
   "execution_count": 195,
   "metadata": {},
   "outputs": [
    {
     "name": "stdout",
     "output_type": "stream",
     "text": [
      "Mobile No: 03365152900\n"
     ]
    }
   ],
   "source": [
    "a = \"03365152900\"\n",
    "\n",
    "#Concatenation using srting function\n",
    "print(\"Mobile No: \" + str(a))"
   ]
  },
  {
   "cell_type": "code",
   "execution_count": null,
   "metadata": {},
   "outputs": [],
   "source": [
    "first_name = \"Moin\"\n",
    "second_name = \"Tirmizi\"\n",
    "mobile_no = \"(03365152900)\"\n",
    "\n",
    "#Concatenation using srting function\n",
    "f\"First Name: {first_name} Second Name: {second_name} Mobile No: {mobile_no}\""
   ]
  },
  {
   "cell_type": "code",
   "execution_count": 2,
   "metadata": {},
   "outputs": [
    {
     "data": {
      "text/plain": [
       "'First Name: Moin Second Name: Tirmizi Mobile No: (03365152900)'"
      ]
     },
     "execution_count": 2,
     "metadata": {},
     "output_type": "execute_result"
    }
   ],
   "source": [
    "first_name = \"Moin\"\n",
    "second_name = \"Tirmizi\"\n",
    "mobile_no = \"(03365152900)\"\n",
    "\n",
    "f\"First Name: {first_name} Second Name: {second_name} Mobile No: {mobile_no}\""
   ]
  },
  {
   "cell_type": "code",
   "execution_count": 3,
   "metadata": {},
   "outputs": [
    {
     "name": "stdout",
     "output_type": "stream",
     "text": [
      "Moin Tirmizi\n"
     ]
    }
   ],
   "source": [
    "a = input()"
   ]
  }
 ],
 "metadata": {
  "kernelspec": {
   "display_name": "Python 3",
   "language": "python",
   "name": "python3"
  },
  "language_info": {
   "codemirror_mode": {
    "name": "ipython",
    "version": 3
   },
   "file_extension": ".py",
   "mimetype": "text/x-python",
   "name": "python",
   "nbconvert_exporter": "python",
   "pygments_lexer": "ipython3",
   "version": "3.7.3"
  }
 },
 "nbformat": 4,
 "nbformat_minor": 2
}
