{
 "cells": [
  {
   "cell_type": "code",
   "execution_count": null,
   "metadata": {},
   "outputs": [],
   "source": [
    "Name = input(\"Name: \")\n",
    "Roll_No = input(\"Roll number: \")\n",
    "Course = input(\"Course name: \")\n",
    "Distance_learning = input(\"Distance learning: \")\n",
    "City = input(\"City: \")\n",
    "Center = input(\"Center: \")\n",
    "Campus = input(\"Campus: \")\n",
    "Quarter = input(\"Quarter: \")\n",
    "Day = input(\"Day: \")\n",
    "Time = input(\"Time: \")\n",
    "Batch = input(\"Batch: \")"
   ]
  },
  {
   "cell_type": "code",
   "execution_count": null,
   "metadata": {},
   "outputs": [],
   "source": []
  },
  {
   "cell_type": "code",
   "execution_count": null,
   "metadata": {},
   "outputs": [],
   "source": []
  }
 ],
 "metadata": {
  "kernelspec": {
   "display_name": "Python 3",
   "language": "python",
   "name": "python3"
  }
 },
 "nbformat": 4,
 "nbformat_minor": 2
}
