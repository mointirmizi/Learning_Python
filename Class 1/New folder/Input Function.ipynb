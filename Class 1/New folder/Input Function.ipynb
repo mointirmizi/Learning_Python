{
 "cells": [
  {
   "cell_type": "code",
   "execution_count": 1,
   "metadata": {},
   "outputs": [
    {
     "name": "stdout",
     "output_type": "stream",
     "text": [
      "Name: moin\n",
      "Roll number: efw\n",
      "Course name: er\n",
      "Distance learning: wfw\n",
      "City: wer\n",
      "Center: wfwe\n",
      "Campus: wef\n",
      "Quarter: wef\n",
      "Day: wef\n",
      "Time: wef\n",
      "Batch: wef\n"
     ]
    }
   ],
   "source": [
    "Name = input(\"Name: \")\n",
    "Roll_No = input(\"Roll number: \")\n",
    "Course = input(\"Course name: \")\n",
    "Distance_learning = input(\"Distance learning: \")\n",
    "City = input(\"City: \")\n",
    "Center = input(\"Center: \")\n",
    "Campus = input(\"Campus: \")\n",
    "Quarter = input(\"Quarter: \")\n",
    "Day = input(\"Day: \")\n",
    "Time = input(\"Time: \")\n",
    "Batch = input(\"Batch: \")"
   ]
  },
  {
   "cell_type": "code",
   "execution_count": null,
   "metadata": {},
   "outputs": [],
   "source": []
  },
  {
   "cell_type": "code",
   "execution_count": null,
   "metadata": {},
   "outputs": [],
   "source": []
  }
 ],
 "metadata": {
  "kernelspec": {
   "display_name": "Python 3",
   "language": "python",
   "name": "python3"
  },
  "language_info": {
   "codemirror_mode": {
    "name": "ipython",
    "version": 3
   },
   "file_extension": ".py",
   "mimetype": "text/x-python",
   "name": "python",
   "nbconvert_exporter": "python",
   "pygments_lexer": "ipython3",
   "version": "3.7.3"
  }
 },
 "nbformat": 4,
 "nbformat_minor": 2
}
