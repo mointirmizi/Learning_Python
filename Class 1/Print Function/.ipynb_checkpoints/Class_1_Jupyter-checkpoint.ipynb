{
 "cells": [
  {
   "cell_type": "code",
   "execution_count": 3,
   "metadata": {
    "scrolled": false
   },
   "outputs": [
    {
     "name": "stdout",
     "output_type": "stream",
     "text": [
      "\n",
      "PIAIC ISLAMABD BATCH3\n",
      "Name: Moin\n",
      "Roll Number: AIC53838\n",
      "University: Bahria University\n",
      "\n"
     ]
    }
   ],
   "source": [
    "Name = \"Moin\"\n",
    "Roll_Number = \"AIC53838\" \n",
    "University = \"Bahria University\"\n",
    "\n",
    "message = \"\"\"\n",
    "PIAIC ISLAMABD BATCH3\n",
    "Name: {}\n",
    "Roll Number: {}\n",
    "University: {}\n",
    "\"\"\".format(Name, Roll_Number, University)\n",
    "\n",
    "print (message)"
   ]
  },
  {
   "cell_type": "code",
   "execution_count": null,
   "metadata": {},
   "outputs": [],
   "source": []
  }
 ],
 "metadata": {
  "kernelspec": {
   "display_name": "Python 3",
   "language": "python",
   "name": "python3"
  },
  "language_info": {
   "codemirror_mode": {
    "name": "ipython",
    "version": 3
   },
   "file_extension": ".py",
   "mimetype": "text/x-python",
   "name": "python",
   "nbconvert_exporter": "python",
   "pygments_lexer": "ipython3",
   "version": "3.7.3"
  }
 },
 "nbformat": 4,
 "nbformat_minor": 2
}
