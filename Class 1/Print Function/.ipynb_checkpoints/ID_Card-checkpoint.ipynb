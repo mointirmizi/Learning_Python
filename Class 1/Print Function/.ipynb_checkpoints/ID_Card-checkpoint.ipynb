{
 "cells": [
  {
   "cell_type": "code",
   "execution_count": 16,
   "metadata": {},
   "outputs": [
    {
     "name": "stdout",
     "output_type": "stream",
     "text": [
      "\n",
      "ID Card\n",
      "Name: Syed Muhammad Moin Tirmizi\n",
      "Roll No: PIAIC52383\n",
      "Course: AIC\n",
      "Distance learning: No\n",
      "City: Islamabad\n",
      "Center: Bahria University Auditorium\n",
      "Campus: Main Campus\n",
      "Quarter: Q1\n",
      "Day: Sunday\n",
      "Time: 09:00 AM to 12:00 PM\n",
      "Batch: 3rd\n",
      "\n"
     ]
    }
   ],
   "source": [
    "Name = \"Syed Muhammad Moin Tirmizi\"\n",
    "Roll_No = \"PIAIC52383\"\n",
    "Course = \"AIC\"\n",
    "Distance_learning = \"No\"\n",
    "City = \"Islamabad\"\n",
    "Center = \"Bahria University Auditorium\"\n",
    "Campus = \"Main Campus\"\n",
    "Quarter = \"Q1\"\n",
    "Day = \"Sunday\"\n",
    "Time = \"09:00 AM to 12:00 PM\"\n",
    "Batch = \"3rd\"\n",
    "\n",
    "message = \"\"\"\n",
    "ID Card\n",
    "Name: {}\n",
    "Roll No: {}\n",
    "Course: {}\n",
    "Distance learning: {}\n",
    "City: {}\n",
    "Center: {}\n",
    "Campus: {}\n",
    "Quarter: {}\n",
    "Day: {}\n",
    "Time: {}\n",
    "Batch: {}\n",
    "\"\"\".format(Name, Roll_No, Course, Distance_learning, City, Center, Campus, Quarter, Day, Time, Batch)\n",
    "\n",
    "print (message)\n"
   ]
  },
  {
   "cell_type": "code",
   "execution_count": null,
   "metadata": {},
   "outputs": [],
   "source": []
  },
  {
   "cell_type": "code",
   "execution_count": null,
   "metadata": {},
   "outputs": [],
   "source": []
  },
  {
   "cell_type": "code",
   "execution_count": null,
   "metadata": {},
   "outputs": [],
   "source": []
  }
 ],
 "metadata": {
  "kernelspec": {
   "display_name": "Python 3",
   "language": "python",
   "name": "python3"
  },
  "language_info": {
   "codemirror_mode": {
    "name": "ipython",
    "version": 3
   },
   "file_extension": ".py",
   "mimetype": "text/x-python",
   "name": "python",
   "nbconvert_exporter": "python",
   "pygments_lexer": "ipython3",
   "version": "3.7.3"
  }
 },
 "nbformat": 4,
 "nbformat_minor": 2
}
