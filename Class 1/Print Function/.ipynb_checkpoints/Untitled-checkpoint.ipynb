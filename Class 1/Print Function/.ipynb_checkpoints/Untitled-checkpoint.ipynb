{
 "cells": [
  {
   "cell_type": "code",
   "execution_count": 1,
   "metadata": {},
   "outputs": [
    {
     "ename": "SyntaxError",
     "evalue": "can't assign to operator (<ipython-input-1-6fda5a84b562>, line 10)",
     "output_type": "error",
     "traceback": [
      "\u001b[1;36m  File \u001b[1;32m\"<ipython-input-1-6fda5a84b562>\"\u001b[1;36m, line \u001b[1;32m10\u001b[0m\n\u001b[1;33m    Days_/_Time = \"Sunday - 09:00 AM to 12:00 PM\"\u001b[0m\n\u001b[1;37m                                                 ^\u001b[0m\n\u001b[1;31mSyntaxError\u001b[0m\u001b[1;31m:\u001b[0m can't assign to operator\n"
     ]
    }
   ],
   "source": [
    "#ID Card\n",
    "Name = \"Syed Muhammad Moin Tirmizi\"\n",
    "Roll_No = \"PIAIC52383\"\n",
    "Course = \"AIC\"\n",
    "Distance_learning = \"No\"\n",
    "City = \"Islamabad\"\n",
    "Center = \"Bahria University Auditorium\"\n",
    "Campus = \"Main Campus\"\n",
    "Quarter = \"Q1\"\n",
    "Days_/_Time = \"Sunday - 09:00 AM to 12:00 PM\"\n",
    "Batch = \"3rd\"\n",
    "\n",
    "Message = \"\"\"\n",
    "Name: {}\n",
    "Roll No: {}\n",
    "Course: {}\n",
    "Distance learning: {}\n",
    "City: {}\n",
    "Center: {}\n",
    "Campus: {}\n",
    "Quarter: {}\n",
    "Days / Time: {}\n",
    "Batch: {}\n",
    "\"\"\"\n",
    "\n",
    "print (\"Message\")"
   ]
  },
  {
   "cell_type": "code",
   "execution_count": null,
   "metadata": {},
   "outputs": [],
   "source": []
  }
 ],
 "metadata": {
  "kernelspec": {
   "display_name": "Python 3",
   "language": "python",
   "name": "python3"
  },
  "language_info": {
   "codemirror_mode": {
    "name": "ipython",
    "version": 3
   },
   "file_extension": ".py",
   "mimetype": "text/x-python",
   "name": "python",
   "nbconvert_exporter": "python",
   "pygments_lexer": "ipython3",
   "version": "3.7.3"
  }
 },
 "nbformat": 4,
 "nbformat_minor": 2
}
